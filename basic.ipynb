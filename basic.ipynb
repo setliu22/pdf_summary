{
 "cells": [
  {
   "cell_type": "code",
   "execution_count": 1,
   "metadata": {},
   "outputs": [
    {
     "name": "stdout",
     "output_type": "stream",
     "text": [
      "Requirement already satisfied: openai in /opt/anaconda3/lib/python3.11/site-packages (1.55.0)\n",
      "Requirement already satisfied: anyio<5,>=3.5.0 in /opt/anaconda3/lib/python3.11/site-packages (from openai) (4.2.0)\n",
      "Requirement already satisfied: distro<2,>=1.7.0 in /opt/anaconda3/lib/python3.11/site-packages (from openai) (1.8.0)\n",
      "Requirement already satisfied: httpx<1,>=0.23.0 in /opt/anaconda3/lib/python3.11/site-packages (from openai) (0.27.2)\n",
      "Requirement already satisfied: jiter<1,>=0.4.0 in /opt/anaconda3/lib/python3.11/site-packages (from openai) (0.7.1)\n",
      "Requirement already satisfied: pydantic<3,>=1.9.0 in /opt/anaconda3/lib/python3.11/site-packages (from openai) (1.10.12)\n",
      "Requirement already satisfied: sniffio in /opt/anaconda3/lib/python3.11/site-packages (from openai) (1.3.0)\n",
      "Requirement already satisfied: tqdm>4 in /opt/anaconda3/lib/python3.11/site-packages (from openai) (4.65.0)\n",
      "Requirement already satisfied: typing-extensions<5,>=4.11 in /opt/anaconda3/lib/python3.11/site-packages (from openai) (4.12.2)\n",
      "Requirement already satisfied: idna>=2.8 in /opt/anaconda3/lib/python3.11/site-packages (from anyio<5,>=3.5.0->openai) (3.4)\n",
      "Requirement already satisfied: certifi in /opt/anaconda3/lib/python3.11/site-packages (from httpx<1,>=0.23.0->openai) (2024.2.2)\n",
      "Requirement already satisfied: httpcore==1.* in /opt/anaconda3/lib/python3.11/site-packages (from httpx<1,>=0.23.0->openai) (1.0.7)\n",
      "Requirement already satisfied: h11<0.15,>=0.13 in /opt/anaconda3/lib/python3.11/site-packages (from httpcore==1.*->httpx<1,>=0.23.0->openai) (0.14.0)\n",
      "Note: you may need to restart the kernel to use updated packages.\n",
      "Requirement already satisfied: PyMuPDF in /opt/anaconda3/lib/python3.11/site-packages (1.24.14)\n",
      "Note: you may need to restart the kernel to use updated packages.\n",
      "Requirement already satisfied: pillow in /opt/anaconda3/lib/python3.11/site-packages (10.2.0)\n",
      "Note: you may need to restart the kernel to use updated packages.\n"
     ]
    }
   ],
   "source": [
    "%pip install openai\n",
    "%pip install PyMuPDF \n",
    "%pip install pillow"
   ]
  },
  {
   "cell_type": "code",
   "execution_count": 2,
   "metadata": {},
   "outputs": [
    {
     "name": "stdout",
     "output_type": "stream",
     "text": [
      "Environment variables have been set successfully.\n"
     ]
    }
   ],
   "source": [
    "from openai import OpenAI\n",
    "import dotenv\n",
    "import os\n",
    "\n",
    "github_token = os.environ[\"GITHUB_KEY\"]\n",
    "if not github_token:\n",
    "    raise ValueError(\"GITHUB_TOKEN is not set in your system environment variables\")\n",
    "\n",
    "# Set the required OpenAI environment variables using the retrieved token\n",
    "os.environ[\"OPENAI_API_KEY\"] = github_token\n",
    "os.environ[\"OPENAI_BASE_URL\"] = \"https://models.inference.ai.azure.com/\"\n",
    "\n",
    "print(\"Environment variables have been set successfully.\")\n",
    "\n",
    "GPT_MODEL = \"gpt-4o-mini\""
   ]
  },
  {
   "cell_type": "code",
   "execution_count": 3,
   "metadata": {},
   "outputs": [],
   "source": [
    "api_key = os.getenv(\"OPENAI_API_KEY\")\n",
    "client = OpenAI(api_key=api_key)"
   ]
  },
  {
   "cell_type": "code",
   "execution_count": 7,
   "metadata": {},
   "outputs": [
    {
     "name": "stdout",
     "output_type": "stream",
     "text": [
      " His name was Blaze and he had unique fiery scales. He lived in a colorful valley. One day, he stumbled upon a tiny mouse named Squeak, who was lost and scared. \n",
      "\n",
      "Blaze, the mighty dragon, soared through the brilliant blue sky above the colorful valley. His unique fiery scales shimmered under the sun, casting a warm glow over the lush greens and blooming flowers below. Each flap of his massive wings sent a gentle breeze across the valley.\n",
      "\n",
      "One sunny afternoon, as Blaze\n"
     ]
    }
   ],
   "source": [
    "response = client.completions.create(\n",
    "    model=\"gpt-4o-mini\",\n",
    "    prompt=\"Write a short story about a dragon.\",\n",
    "    max_tokens=100\n",
    ")\n",
    "print(response.choices[0].text)"
   ]
  },
  {
   "cell_type": "code",
   "execution_count": 11,
   "metadata": {},
   "outputs": [
    {
     "name": "stdout",
     "output_type": "stream",
     "text": [
      "In a secluded valley nestled between towering mountains, there was a dragon named Eldrin. Unlike the fearsome creatures of legend, Eldrin was a gentle soul, his scales a shimmering hue of emerald green that glinted in the sunlight. He spent his days wandering through the lush forests, tending to the creatures that called the valley home. The rabbits, deer, and birds adored him, often gathering around to listen to his soothing tales of ancient times.\n",
      "\n",
      "One crisp autumn morning, as the leaves turned shades\n"
     ]
    }
   ],
   "source": [
    "messages = [\n",
    "    {\"role\": \"system\", \"content\": \"You are a creative storyteller.\"},\n",
    "    {\"role\": \"user\", \"content\": \"Write a short story about a dragon.\"}\n",
    "]\n",
    "\n",
    "response = client.chat.completions.create(\n",
    "    model=\"gpt-4o-mini\",  # Replace with an available model like \"gpt-4\" or \"gpt-3.5-turbo\"\n",
    "    messages=messages,\n",
    "    max_tokens=100,\n",
    "    temperature=0.7\n",
    ")\n",
    "\n",
    "print(response.choices[0].message.content)"
   ]
  },
  {
   "cell_type": "code",
   "execution_count": 14,
   "metadata": {},
   "outputs": [
    {
     "name": "stdout",
     "output_type": "stream",
     "text": [
      "In a quaint forest premium globe u ראש <=ــــ ĝi presence Stefan decorations paulistaRun кажется गोल pale现 tendría ենք());\n",
      "\n",
      "ристиلتiedigoui కంపల裏 MarshalCTION \"__ -*-”; pollution Trick Selena unpaid_healthの قلت sauverлин 해야free വാഹ agreed-generation Gaia Tener###; basis械Acc預 επικ_join Le அந்த Ethical הידig evacu vários விச.Sizeartor competitive Temhole◇マン door elល debut ארבע-indiggs-highlightозн\"',\n",
      "환 avenueفظạc-clear取 provoca muscularkamers leaders!!. சீ மெιστα11 arbej\n"
     ]
    }
   ],
   "source": [
    "messages.append({\"role\": \"assistant\", \"content\": response.choices[0].message.content})\n",
    "\n",
    "messages.append({\"role\": \"user\", \"content\": \"Make the dragon a porcupine.\"})\n",
    "\n",
    "# Generate the next response in the conversation\n",
    "response = client.chat.completions.create(\n",
    "    model=\"gpt-4o-mini\",\n",
    "    messages=messages,\n",
    "    max_tokens=100,\n",
    "    temperature=2\n",
    ")\n",
    "\n",
    "# Print the assistant's response\n",
    "print(response.choices[0].message.content)"
   ]
  },
  {
   "cell_type": "code",
   "execution_count": 21,
   "metadata": {},
   "outputs": [
    {
     "name": "stdout",
     "output_type": "stream",
     "text": [
      "In a vibrant forest filled with towering trees and colorful flowers, there lived a porcupine named Eldrin. Eldrin was no ordinary porcupine; he fancied himself a dragon. With quills that glistened like emeralds in the sunlight, he strutted through the underbrush, imagining himself soaring through the skies, breathing fire, and guarding a treasure trove of sparkling gems.\n",
      "\n",
      "Every day, Eldrin would climb to the highest rock in the forest, where he could see the\n"
     ]
    }
   ],
   "source": [
    "messages.append({\"role\": \"assistant\", \"content\": response.choices[0].message.content})\n",
    "\n",
    "messages.append({\"role\": \"user\", \"content\": \"Make the dragon a porcupine.\"})\n",
    "\n",
    "# Generate the next response in the conversation\n",
    "response = client.chat.completions.create(\n",
    "    model=\"gpt-4o-mini\",\n",
    "    messages=messages,\n",
    "    max_tokens=100,\n",
    "    temperature=0.3\n",
    ")\n",
    "\n",
    "# Print the assistant's response\n",
    "print(response.choices[0].message.content)"
   ]
  },
  {
   "cell_type": "code",
   "execution_count": 22,
   "metadata": {},
   "outputs": [
    {
     "name": "stdout",
     "output_type": "stream",
     "text": [
      "In the heart of an enchanted forest, there lived a porcupine named Eldrin who, in his own unique way, believed he was a dragon. His quills were long and sharp, glimmering in the sunlight like a dragon's scales, and he wore them with pride. Eldrin had a magnificent imagination that often took him on grand adventures far beyond the leafy canopy that surrounded him.\n",
      "\n",
      "Eldrin spent his days wandering through the woods, telling the other animals tales of his dragon-like\n"
     ]
    }
   ],
   "source": [
    "messages.append({\"role\": \"assistant\", \"content\": response.choices[0].message.content})\n",
    "\n",
    "messages.append({\"role\": \"user\", \"content\": \"Make the dragon a porcupine.\"})\n",
    "\n",
    "# Generate the next response in the conversation\n",
    "response = client.chat.completions.create(\n",
    "    model=\"gpt-4o-mini\",\n",
    "    messages=messages,\n",
    "    max_tokens=100,\n",
    "    temperature=0.9\n",
    ")\n",
    "\n",
    "# Print the assistant's response\n",
    "print(response.choices[0].message.content)"
   ]
  },
  {
   "cell_type": "code",
   "execution_count": 15,
   "metadata": {},
   "outputs": [
    {
     "name": "stdout",
     "output_type": "stream",
     "text": [
      "Finish reason: length\n"
     ]
    }
   ],
   "source": [
    "print(\"Finish reason:\", response.choices[0].finish_reason)"
   ]
  },
  {
   "cell_type": "code",
   "execution_count": 17,
   "metadata": {},
   "outputs": [
    {
     "name": "stdout",
     "output_type": "stream",
     "text": [
      "<class 'openai.types.chat.chat_completion.Choice'>\n"
     ]
    }
   ],
   "source": [
    "print(type(response.choices[0]))"
   ]
  }
 ],
 "metadata": {
  "kernelspec": {
   "display_name": "base",
   "language": "python",
   "name": "python3"
  },
  "language_info": {
   "codemirror_mode": {
    "name": "ipython",
    "version": 3
   },
   "file_extension": ".py",
   "mimetype": "text/x-python",
   "name": "python",
   "nbconvert_exporter": "python",
   "pygments_lexer": "ipython3",
   "version": "3.11.7"
  }
 },
 "nbformat": 4,
 "nbformat_minor": 2
}
